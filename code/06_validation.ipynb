{
 "cells": [
  {
   "cell_type": "markdown",
   "metadata": {},
   "source": [
    "# Validation\n",
    "\n",
    "We want to check whether our identification of face artifacts from street network polygons is correct. We postulate that, in accordance with our definitions:\n",
    "\n",
    "1. **no** face artifacts contain buildings (with a possible small margin of error, e.g. there could be a bus stop tagged as \"building\" placed in the middle of a multilane street);\n",
    "2. **some** urban blocks contain **no** buildings (e.g. squares, parks, sports and service areas).\n",
    "For an automated validation of our findings, we can use building data from OSM to check statement 1:\n",
    "Polygons classified as face artifacts, but which contain buildings, are wrongly classified and actually represent urban blocks (type 1 error). Note that an automated checking of statement 2 - i.e. actual face artifacts wrongly classified as urban blocks - is not possible since we have no ground truth (e.g. a list of \"empty urban blocks\") to test agains.\n",
    "\n",
    "Thus, in this notebook we:\n",
    "* download building data for all FUAs from OSM\n",
    "* visually check FUA building data for sufficient completeness\n",
    "* for the subset of FUAs with a sufficient completeness of building data on OSM,\n",
    "    - import street network face polygons\n",
    "    - classify them into face artifacts vs. urban blocks according to the face artifact threshold found for the FUA in Notebook 4 (peaks)\n",
    "    - for each polygon, compute its area of intersection with the building data set\n",
    "    - generate pseudo-confusion matrices for different tolerance thresholds (the threshold indicates how many square meters of building surface a face artifact is allowed contain without being classified as urban block)\n",
    "    - visualize results of validation"
   ]
  },
  {
   "cell_type": "code",
   "execution_count": 38,
   "metadata": {},
   "outputs": [],
   "source": [
    "## shapely 2.0.0.!\n",
    "import shapely\n",
    "from shapely import strtree\n",
    "from shapely.geometry import LineString\n",
    "from shapely.validation import make_valid\n",
    "\n",
    "import os\n",
    "\n",
    "os.environ[\"USE_PYGEOS\"] = \"0\"\n",
    "# import pygeos\n",
    "\n",
    "import geopandas\n",
    "import pandas\n",
    "import dask_geopandas\n",
    "\n",
    "import numpy\n",
    "import matplotlib.pyplot as plt\n",
    "import seaborn as sns\n",
    "from palettable.cartocolors.qualitative import Bold_6\n",
    "\n",
    "from scipy.signal import find_peaks\n",
    "from scipy.stats import gaussian_kde\n",
    "\n",
    "import os\n",
    "import warnings\n",
    "\n",
    "import json\n",
    "from collections import Counter\n",
    "\n",
    "from tqdm import tqdm\n",
    "\n",
    "import osmnx as ox"
   ]
  },
  {
   "cell_type": "markdown",
   "metadata": {},
   "source": [
    "**Import meta data**"
   ]
  },
  {
   "cell_type": "code",
   "execution_count": 2,
   "metadata": {},
   "outputs": [],
   "source": [
    "# sample meta data\n",
    "sample = geopandas.read_parquet(\"../data/sample.parquet\")"
   ]
  },
  {
   "cell_type": "markdown",
   "metadata": {},
   "source": [
    "**Download building data for each FUA from OSM**"
   ]
  },
  {
   "cell_type": "code",
   "execution_count": null,
   "metadata": {},
   "outputs": [],
   "source": [
    "# TODO: for the last 3 cities (london, cologne, dortmund) - to run on HPC\n",
    "\n",
    "# Filter warnings about GeoParquet implementation.\n",
    "warnings.filterwarnings(\"ignore\", message=\".*initial implementation of Parquet.*\")\n",
    "\n",
    "for ix, row in tqdm(sample.iterrows(), total=len(sample)):\n",
    "    city = row.eFUA_name\n",
    "\n",
    "    # check if file exists - if it doesn't, download from OSM:\n",
    "    if os.path.exists(f\"../data/buildings/buildings_{city}.gpkg\"):\n",
    "        print(f\"{city} building data already downloaded\")\n",
    "    elif os.path.exists(f\"../data/buildings/buildings_{city}_cleaned.gpkg\"):\n",
    "        print(f\"{city} building data already downloaded and preprocessed\")\n",
    "    else:\n",
    "        print(f\"dowloading {city} building data\")\n",
    "        # Download OSM buildings\n",
    "        buildings = ox.geometries_from_polygon(\n",
    "            sample[sample[\"eFUA_name\"] == city].geometry.values[0],\n",
    "            tags={\"building\": True},\n",
    "        )\n",
    "        buildings_small = buildings[[\"geometry\"]]  # saving only most relevant columns\n",
    "        buildings_small.to_file(f\"../data/buildings/buildings_{city}.gpkg\", index=False)\n",
    "        del (buildings, buildings_small)\n",
    "        print(f\"{city} building data downloaded\")"
   ]
  },
  {
   "cell_type": "markdown",
   "metadata": {},
   "source": [
    "## Visual processing step in QGIS\n",
    "\n",
    "In this step, for each FUA, we visually checked in QGIS (by plotting and comparing all buildings, the OSM base layer, and the FUA shape) whether its building mapping in OSM is sufficiently complete as to be used for face artifact validation purposes. Next, in the list for each continent, we noted down cities with enough buildings mapped for validation (in parenthesis: cities where building data from OSM would be sufficient for validation, but no face artifact index treshold was found).\n",
    "\n",
    "**Africa:** Abidjan, Conakry, Douala, Modagishu, (Monrovia)\n",
    "\n",
    "**Asia:** Aleppo, (Comilla), (Dhaka), (Jombang), Kabul, Semarang, Seoul\n",
    "\n",
    "**South America:** Bucaramanga, Porto Alegre\n",
    "\n",
    "**North America:** Cincinnati, Dallas, Ottawa (!), Raleigh, Richmond, Rio Piedras [San Juan] (!), Salt Lake City, San José, Washington D.C.\n",
    "\n",
    "**Europe:** Amsterdam, Belgrade, Chelyabinsk, Helsinki, Katowice, Krakow, Liège, Nuremberg, Saratov, Vienna, Warsaw\n",
    "\n",
    "**Oceania:** Auckland\n",
    "\n",
    "\n"
   ]
  },
  {
   "cell_type": "markdown",
   "metadata": {},
   "source": [
    "**Define FUA subsample for validation**"
   ]
  },
  {
   "cell_type": "code",
   "execution_count": 32,
   "metadata": {},
   "outputs": [],
   "source": [
    "cities_for_validation = [\n",
    "    \"Abidjan\",\n",
    "    \"Conakry\",\n",
    "    \"Douala\",\n",
    "    \"Mogadishu\",  # Africa\n",
    "    \"Aleppo\",\n",
    "    \"Kabul\",\n",
    "    \"Semarang\",\n",
    "    \"Seoul\",  # Asia\n",
    "    \"Bucaramanga\",\n",
    "    \"Porto Alegre\",  # South America\n",
    "    \"Cincinnati\",\n",
    "    \"Dallas\",\n",
    "    \"Ottawa\",\n",
    "    \"Raleigh\",\n",
    "    \"Richmond\",\n",
    "    \"Río Piedras [San Juan]\",\n",
    "    \"Salt Lake City\",\n",
    "    \"San Jose\",\n",
    "    \"Washington D.C.\",  # North America\n",
    "    \"Auckland\",  # Oceania\n",
    "    \"Amsterdam\",\n",
    "    \"Belgrade\",\n",
    "    \"Chelyabinsk\",\n",
    "    \"Helsinki\",\n",
    "    \"Katowice\",\n",
    "    \"Krakow\",\n",
    "    \"Liège\",\n",
    "    \"Nuremberg\",\n",
    "    \"Saratov\",\n",
    "    \"Vienna\",\n",
    "    \"Warsaw\",  # Europe\n",
    "]"
   ]
  },
  {
   "cell_type": "markdown",
   "metadata": {},
   "source": [
    "**Preprocessing of building data for validation subsample**"
   ]
  },
  {
   "cell_type": "code",
   "execution_count": 41,
   "metadata": {},
   "outputs": [],
   "source": [
    "sample_validation = sample[sample.eFUA_name.isin(cities_for_validation)]"
   ]
  },
  {
   "cell_type": "code",
   "execution_count": 36,
   "metadata": {},
   "outputs": [
    {
     "name": "stderr",
     "output_type": "stream",
     "text": [
      "  0%|          | 0/31 [00:00<?, ?it/s]"
     ]
    },
    {
     "name": "stdout",
     "output_type": "stream",
     "text": [
      "Aleppo building data already preprocessed\n",
      "Kabul building data already preprocessed\n",
      "Seoul building data already preprocessed\n",
      "Semarang building data already preprocessed\n",
      "Conakry building data already preprocessed\n",
      "Abidjan building data already preprocessed\n",
      "Mogadishu building data already preprocessed\n",
      "Douala building data already preprocessed\n"
     ]
    },
    {
     "name": "stderr",
     "output_type": "stream",
     "text": [
      "100%|██████████| 31/31 [44:30<00:00, 86.16s/it] \n"
     ]
    }
   ],
   "source": [
    "# Filter warnings about GeoParquet implementation.\n",
    "warnings.filterwarnings(\"ignore\", message=\".*initial implementation of Parquet.*\")\n",
    "\n",
    "for ix, row in tqdm(sample_validation.iterrows(), total=len(sample_validation)):\n",
    "    city = row.eFUA_name\n",
    "    myid = row.eFUA_ID\n",
    "\n",
    "    if os.path.exists(f\"../data/buildings/buildings_{city}_clean.gpkg\"):\n",
    "        print(f\"{city} building data already preprocessed\")\n",
    "    elif not os.path.exists(f\"../data/buildings/buildings_{city}.gpkg\"):\n",
    "        print(f\"{city} building data not downloaded yet\")\n",
    "    else:\n",
    "        polygons = geopandas.read_parquet(f\"../data/{int(row.eFUA_ID)}/polygons/\")\n",
    "        buildings = geopandas.read_file(f\"../data/buildings/buildings_{city}.gpkg\")\n",
    "        buildings = buildings.to_crs(polygons.crs)\n",
    "\n",
    "        # drop tags (not needed for analysis)\n",
    "        buildings = buildings[[\"geometry\"]]\n",
    "\n",
    "        # drop points, assert we only have polygons in the gdf\n",
    "        buildings = buildings.drop(\n",
    "            buildings[buildings.geometry.type == \"Point\"].index, axis=0\n",
    "        ).reset_index(drop=True)\n",
    "\n",
    "        buildings = buildings.drop(\n",
    "            buildings[buildings.geometry.type == \"LineString\"].index, axis=0\n",
    "        ).reset_index(drop=True)\n",
    "\n",
    "        # explode multipolygons\n",
    "        buildings = buildings.explode(index_parts=False)\n",
    "\n",
    "        # check that we now only have polygons in the data set\n",
    "        assert all(buildings.geometry.type == \"Polygon\")\n",
    "\n",
    "        # save \"cleaned\" data set\n",
    "        buildings.to_file(f\"../data/buildings/buildings_{city}_clean.gpkg\", index=0)\n",
    "\n",
    "        # delete original data set\n",
    "        os.remove(f\"../data/buildings/buildings_{city}.gpkg\")"
   ]
  },
  {
   "cell_type": "markdown",
   "metadata": {},
   "source": [
    "**Read in peak results (face artifact thresholds)**"
   ]
  },
  {
   "cell_type": "code",
   "execution_count": 39,
   "metadata": {},
   "outputs": [],
   "source": [
    "results = json.load(open(\"../results/04_peaks_results.json\"))"
   ]
  },
  {
   "cell_type": "markdown",
   "metadata": {},
   "source": [
    "**Classify urban blocks and calculate block/building overlap**"
   ]
  },
  {
   "cell_type": "code",
   "execution_count": 100,
   "metadata": {},
   "outputs": [
    {
     "name": "stderr",
     "output_type": "stream",
     "text": [
      "100%|██████████| 31/31 [58:13<00:00, 112.70s/it]\n"
     ]
    }
   ],
   "source": [
    "# Filter warnings about GeoParquet implementation.\n",
    "warnings.filterwarnings(\"ignore\", message=\".*initial implementation of Parquet.*\")\n",
    "\n",
    "for ix, row in tqdm(sample_validation.iterrows(), total=len(sample_validation)):\n",
    "    city = row.eFUA_name\n",
    "    myid = int(row.eFUA_ID)\n",
    "\n",
    "    # read in buildings and polygons\n",
    "    buildings = geopandas.read_file(f\"../data/buildings/buildings_{city}_clean.gpkg\")\n",
    "    polygons = geopandas.read_parquet(f\"../data/{myid}/polygons/\")\n",
    "\n",
    "    # find predicted artifacts\n",
    "    option = \"circular_compactness_index\"\n",
    "    threshold = results[city][option][\"threshold\"]\n",
    "    polygons[\"is_artifact\"] = False\n",
    "    #    polygons.loc[polygons[\"circular_compactness_index\"]>threshold, \"is_artifact\"] = False\n",
    "    polygons.loc[\n",
    "        polygons[\"circular_compactness_index\"] <= threshold, \"is_artifact\"\n",
    "    ] = True\n",
    "\n",
    "    # find overlap of polygons with buildings\n",
    "    mytree = strtree.STRtree(geoms=buildings.geometry)\n",
    "    q = mytree.query(polygons.geometry, predicate=\"intersects\")\n",
    "    # q[0] ...polygon indeces\n",
    "    # q[1] ...building indeces\n",
    "\n",
    "    # find out whether polygons contain buldings or not\n",
    "    polygons[\"intersects_buildings\"] = False  # set default to False\n",
    "    polygons.loc[numpy.unique(q[0]), \"intersects_buildings\"] = True\n",
    "    # if index is in query, change to True\n",
    "\n",
    "    #### find absolute value and ratio of built area in polygon\n",
    "\n",
    "    # column of total area of polygon\n",
    "    polygons[\"area\"] = polygons.area\n",
    "\n",
    "    # column of building area within polygon (default to 0)\n",
    "    polygons[\"intersection_area\"] = 0\n",
    "\n",
    "    # replace 0 with area of unary union of buildings intersecting that polygon\n",
    "    for polygon_index in numpy.unique(q[0]):\n",
    "        # for this polygon, get indeces of buildings intersecting it\n",
    "        building_indeces = q[1][numpy.where(q[0] == polygon_index)]\n",
    "\n",
    "        # get area of intersection\n",
    "        intersection_area = (\n",
    "            polygons.loc[polygon_index, \"geometry\"]\n",
    "            .intersection(buildings.loc[building_indeces, \"geometry\"].unary_union)\n",
    "            .area\n",
    "        )\n",
    "\n",
    "        # add to polygon table\n",
    "        polygons.loc[polygon_index, \"intersection_area\"] = intersection_area\n",
    "\n",
    "    # add column with ratio of built area\n",
    "    polygons[\"ratio_built\"] = polygons[\"intersection_area\"] / polygons[\"area\"]\n",
    "\n",
    "    # print out first glimpse of results\n",
    "    # tf = Counter(polygons[polygons[\"is_artifact\"]==True][\"intersects_buildings\"])\n",
    "    # pct_flag = numpy.round(100 * (tf[True] / tf[False]), 2)\n",
    "    # print(f\"{city.capitalize()}: {pct_flag}% of detected face artifacts intersect with buildings\")\n",
    "\n",
    "    # drop not needed columns\n",
    "    polygons = polygons[\n",
    "        [\n",
    "            \"geometry\",\n",
    "            \"area\",\n",
    "            \"is_artifact\",\n",
    "            \"intersects_buildings\",\n",
    "            \"intersection_area\",\n",
    "            \"ratio_built\",\n",
    "        ]\n",
    "    ]\n",
    "\n",
    "    # save result as gpkg (locally)\n",
    "    # polygons.to_file(f\"../data/validation/{city}.gpkg\", index = False)\n",
    "\n",
    "    # save results as parquet (to fit size limit)\n",
    "    os.makedirs(f\"../data/{myid}/polygons_validation\", exist_ok=True)\n",
    "    polygons = dask_geopandas.from_geopandas(polygons, npartitions=20)\n",
    "    polygons.to_parquet(f\"../data/{myid}/polygons_validation/\")\n",
    "\n",
    "    del (buildings, polygons, mytree, q)"
   ]
  },
  {
   "cell_type": "markdown",
   "metadata": {},
   "source": [
    "**Compute pseudo-confusion matrices**"
   ]
  },
  {
   "cell_type": "code",
   "execution_count": 110,
   "metadata": {},
   "outputs": [
    {
     "name": "stderr",
     "output_type": "stream",
     "text": [
      "  6%|▋         | 2/31 [00:00<00:03,  8.82it/s]"
     ]
    },
    {
     "name": "stdout",
     "output_type": "stream",
     "text": [
      "Aleppo 993\n",
      "Kabul 1105\n"
     ]
    },
    {
     "name": "stderr",
     "output_type": "stream",
     "text": [
      " 13%|█▎        | 4/31 [00:00<00:06,  4.16it/s]"
     ]
    },
    {
     "name": "stdout",
     "output_type": "stream",
     "text": [
      "Seoul 26066\n",
      "Semarang 3306\n"
     ]
    },
    {
     "name": "stderr",
     "output_type": "stream",
     "text": [
      " 26%|██▌       | 8/31 [00:01<00:02,  9.22it/s]"
     ]
    },
    {
     "name": "stdout",
     "output_type": "stream",
     "text": [
      "Conakry 478\n",
      "Abidjan 1414\n",
      "Mogadishu 5788\n",
      "Douala 534\n",
      "Bucaramanga 944\n"
     ]
    },
    {
     "name": "stderr",
     "output_type": "stream",
     "text": [
      " 32%|███▏      | 10/31 [00:01<00:01, 11.48it/s]"
     ]
    },
    {
     "name": "stdout",
     "output_type": "stream",
     "text": [
      "Porto Alegre 5931\n",
      "Auckland 0\n"
     ]
    },
    {
     "name": "stderr",
     "output_type": "stream",
     "text": [
      " 39%|███▊      | 12/31 [00:04<00:12,  1.55it/s]"
     ]
    },
    {
     "name": "stdout",
     "output_type": "stream",
     "text": [
      "Krakow 2452\n",
      "Vienna 5359\n"
     ]
    },
    {
     "name": "stderr",
     "output_type": "stream",
     "text": [
      " 45%|████▌     | 14/31 [00:14<00:34,  2.05s/it]"
     ]
    },
    {
     "name": "stdout",
     "output_type": "stream",
     "text": [
      "Warsaw 6950\n"
     ]
    },
    {
     "name": "stderr",
     "output_type": "stream",
     "text": [
      " 48%|████▊     | 15/31 [00:14<00:27,  1.73s/it]"
     ]
    },
    {
     "name": "stdout",
     "output_type": "stream",
     "text": [
      "Amsterdam 9247\n"
     ]
    },
    {
     "name": "stderr",
     "output_type": "stream",
     "text": [
      " 55%|█████▍    | 17/31 [00:15<00:15,  1.14s/it]"
     ]
    },
    {
     "name": "stdout",
     "output_type": "stream",
     "text": [
      "Liège 4793\n",
      "Chelyabinsk 1027\n"
     ]
    },
    {
     "name": "stderr",
     "output_type": "stream",
     "text": [
      " 58%|█████▊    | 18/31 [00:15<00:13,  1.01s/it]"
     ]
    },
    {
     "name": "stdout",
     "output_type": "stream",
     "text": [
      "Nuremberg 3500\n"
     ]
    },
    {
     "name": "stderr",
     "output_type": "stream",
     "text": [
      " 61%|██████▏   | 19/31 [00:16<00:09,  1.23it/s]"
     ]
    },
    {
     "name": "stdout",
     "output_type": "stream",
     "text": [
      "Saratov 414\n"
     ]
    },
    {
     "name": "stderr",
     "output_type": "stream",
     "text": [
      " 65%|██████▍   | 20/31 [00:16<00:07,  1.49it/s]"
     ]
    },
    {
     "name": "stdout",
     "output_type": "stream",
     "text": [
      "Katowice 6870\n"
     ]
    },
    {
     "name": "stderr",
     "output_type": "stream",
     "text": [
      " 68%|██████▊   | 21/31 [00:17<00:06,  1.55it/s]"
     ]
    },
    {
     "name": "stdout",
     "output_type": "stream",
     "text": [
      "Helsinki 0\n"
     ]
    },
    {
     "name": "stderr",
     "output_type": "stream",
     "text": [
      " 71%|███████   | 22/31 [00:17<00:04,  1.84it/s]"
     ]
    },
    {
     "name": "stdout",
     "output_type": "stream",
     "text": [
      "Belgrade 2210\n",
      "Río Piedras [San Juan] 3373\n"
     ]
    },
    {
     "name": "stderr",
     "output_type": "stream",
     "text": [
      " 74%|███████▍  | 23/31 [00:17<00:06,  1.30it/s]\n"
     ]
    },
    {
     "ename": "OSError",
     "evalue": "Corrupt snappy compressed data.",
     "output_type": "error",
     "traceback": [
      "\u001b[0;31m---------------------------------------------------------------------------\u001b[0m",
      "\u001b[0;31mOSError\u001b[0m                                   Traceback (most recent call last)",
      "Cell \u001b[0;32mIn[110], line 21\u001b[0m\n\u001b[1;32m     18\u001b[0m city \u001b[39m=\u001b[39m row\u001b[39m.\u001b[39meFUA_name\n\u001b[1;32m     19\u001b[0m myid \u001b[39m=\u001b[39m \u001b[39mint\u001b[39m(row\u001b[39m.\u001b[39meFUA_ID)\n\u001b[0;32m---> 21\u001b[0m polygons \u001b[39m=\u001b[39m geopandas\u001b[39m.\u001b[39;49mread_parquet(\u001b[39mf\u001b[39;49m\u001b[39m\"\u001b[39;49m\u001b[39m../data/\u001b[39;49m\u001b[39m{\u001b[39;49;00mmyid\u001b[39m}\u001b[39;49;00m\u001b[39m/polygons_validation\u001b[39;49m\u001b[39m\"\u001b[39;49m)\n\u001b[1;32m     23\u001b[0m \u001b[39m# get area threshold dependent percentage of \"false positives\" \u001b[39;00m\n\u001b[1;32m     24\u001b[0m \u001b[39m# (i.e. face artifacts that intersect with buildings)\u001b[39;00m\n\u001b[1;32m     25\u001b[0m artifact_count \u001b[39m=\u001b[39m Counter(polygons[\u001b[39m\"\u001b[39m\u001b[39mis_artifact\u001b[39m\u001b[39m\"\u001b[39m])[\u001b[39mTrue\u001b[39;00m]\n",
      "File \u001b[0;32m~/opt/anaconda3/envs/OSMNX/lib/python3.9/site-packages/geopandas/io/arrow.py:560\u001b[0m, in \u001b[0;36m_read_parquet\u001b[0;34m(path, columns, storage_options, **kwargs)\u001b[0m\n\u001b[1;32m    558\u001b[0m path \u001b[39m=\u001b[39m _expand_user(path)\n\u001b[1;32m    559\u001b[0m kwargs[\u001b[39m\"\u001b[39m\u001b[39muse_pandas_metadata\u001b[39m\u001b[39m\"\u001b[39m] \u001b[39m=\u001b[39m \u001b[39mTrue\u001b[39;00m\n\u001b[0;32m--> 560\u001b[0m table \u001b[39m=\u001b[39m parquet\u001b[39m.\u001b[39;49mread_table(path, columns\u001b[39m=\u001b[39;49mcolumns, filesystem\u001b[39m=\u001b[39;49mfilesystem, \u001b[39m*\u001b[39;49m\u001b[39m*\u001b[39;49mkwargs)\n\u001b[1;32m    562\u001b[0m \u001b[39m# read metadata separately to get the raw Parquet FileMetaData metadata\u001b[39;00m\n\u001b[1;32m    563\u001b[0m \u001b[39m# (pyarrow doesn't properly exposes those in schema.metadata for files\u001b[39;00m\n\u001b[1;32m    564\u001b[0m \u001b[39m# created by GDAL - https://issues.apache.org/jira/browse/ARROW-16688)\u001b[39;00m\n\u001b[1;32m    565\u001b[0m metadata \u001b[39m=\u001b[39m \u001b[39mNone\u001b[39;00m\n",
      "File \u001b[0;32m~/opt/anaconda3/envs/OSMNX/lib/python3.9/site-packages/pyarrow/parquet/core.py:2871\u001b[0m, in \u001b[0;36mread_table\u001b[0;34m(source, columns, use_threads, metadata, schema, use_pandas_metadata, memory_map, read_dictionary, filesystem, filters, buffer_size, partitioning, use_legacy_dataset, ignore_prefixes, pre_buffer, coerce_int96_timestamp_unit, decryption_properties, thrift_string_size_limit, thrift_container_size_limit)\u001b[0m\n\u001b[1;32m   2860\u001b[0m         \u001b[39m# TODO test that source is not a directory or a list\u001b[39;00m\n\u001b[1;32m   2861\u001b[0m         dataset \u001b[39m=\u001b[39m ParquetFile(\n\u001b[1;32m   2862\u001b[0m             source, metadata\u001b[39m=\u001b[39mmetadata, read_dictionary\u001b[39m=\u001b[39mread_dictionary,\n\u001b[1;32m   2863\u001b[0m             memory_map\u001b[39m=\u001b[39mmemory_map, buffer_size\u001b[39m=\u001b[39mbuffer_size,\n\u001b[0;32m   (...)\u001b[0m\n\u001b[1;32m   2868\u001b[0m             thrift_container_size_limit\u001b[39m=\u001b[39mthrift_container_size_limit,\n\u001b[1;32m   2869\u001b[0m         )\n\u001b[0;32m-> 2871\u001b[0m     \u001b[39mreturn\u001b[39;00m dataset\u001b[39m.\u001b[39;49mread(columns\u001b[39m=\u001b[39;49mcolumns, use_threads\u001b[39m=\u001b[39;49muse_threads,\n\u001b[1;32m   2872\u001b[0m                         use_pandas_metadata\u001b[39m=\u001b[39;49muse_pandas_metadata)\n\u001b[1;32m   2874\u001b[0m warnings\u001b[39m.\u001b[39mwarn(\n\u001b[1;32m   2875\u001b[0m     \u001b[39m\"\u001b[39m\u001b[39mPassing \u001b[39m\u001b[39m'\u001b[39m\u001b[39muse_legacy_dataset=True\u001b[39m\u001b[39m'\u001b[39m\u001b[39m to get the legacy behaviour is \u001b[39m\u001b[39m\"\u001b[39m\n\u001b[1;32m   2876\u001b[0m     \u001b[39m\"\u001b[39m\u001b[39mdeprecated as of pyarrow 8.0.0, and the legacy implementation will \u001b[39m\u001b[39m\"\u001b[39m\n\u001b[1;32m   2877\u001b[0m     \u001b[39m\"\u001b[39m\u001b[39mbe removed in a future version.\u001b[39m\u001b[39m\"\u001b[39m,\n\u001b[1;32m   2878\u001b[0m     \u001b[39mFutureWarning\u001b[39;00m, stacklevel\u001b[39m=\u001b[39m\u001b[39m2\u001b[39m)\n\u001b[1;32m   2880\u001b[0m \u001b[39mif\u001b[39;00m ignore_prefixes \u001b[39mis\u001b[39;00m \u001b[39mnot\u001b[39;00m \u001b[39mNone\u001b[39;00m:\n",
      "File \u001b[0;32m~/opt/anaconda3/envs/OSMNX/lib/python3.9/site-packages/pyarrow/parquet/core.py:2517\u001b[0m, in \u001b[0;36m_ParquetDatasetV2.read\u001b[0;34m(self, columns, use_threads, use_pandas_metadata)\u001b[0m\n\u001b[1;32m   2509\u001b[0m         index_columns \u001b[39m=\u001b[39m [\n\u001b[1;32m   2510\u001b[0m             col \u001b[39mfor\u001b[39;00m col \u001b[39min\u001b[39;00m _get_pandas_index_columns(metadata)\n\u001b[1;32m   2511\u001b[0m             \u001b[39mif\u001b[39;00m \u001b[39mnot\u001b[39;00m \u001b[39misinstance\u001b[39m(col, \u001b[39mdict\u001b[39m)\n\u001b[1;32m   2512\u001b[0m         ]\n\u001b[1;32m   2513\u001b[0m         columns \u001b[39m=\u001b[39m (\n\u001b[1;32m   2514\u001b[0m             \u001b[39mlist\u001b[39m(columns) \u001b[39m+\u001b[39m \u001b[39mlist\u001b[39m(\u001b[39mset\u001b[39m(index_columns) \u001b[39m-\u001b[39m \u001b[39mset\u001b[39m(columns))\n\u001b[1;32m   2515\u001b[0m         )\n\u001b[0;32m-> 2517\u001b[0m table \u001b[39m=\u001b[39m \u001b[39mself\u001b[39;49m\u001b[39m.\u001b[39;49m_dataset\u001b[39m.\u001b[39;49mto_table(\n\u001b[1;32m   2518\u001b[0m     columns\u001b[39m=\u001b[39;49mcolumns, \u001b[39mfilter\u001b[39;49m\u001b[39m=\u001b[39;49m\u001b[39mself\u001b[39;49m\u001b[39m.\u001b[39;49m_filter_expression,\n\u001b[1;32m   2519\u001b[0m     use_threads\u001b[39m=\u001b[39;49muse_threads\n\u001b[1;32m   2520\u001b[0m )\n\u001b[1;32m   2522\u001b[0m \u001b[39m# if use_pandas_metadata, restore the pandas metadata (which gets\u001b[39;00m\n\u001b[1;32m   2523\u001b[0m \u001b[39m# lost if doing a specific `columns` selection in to_table)\u001b[39;00m\n\u001b[1;32m   2524\u001b[0m \u001b[39mif\u001b[39;00m use_pandas_metadata:\n",
      "File \u001b[0;32m~/opt/anaconda3/envs/OSMNX/lib/python3.9/site-packages/pyarrow/_dataset.pyx:332\u001b[0m, in \u001b[0;36mpyarrow._dataset.Dataset.to_table\u001b[0;34m()\u001b[0m\n",
      "File \u001b[0;32m~/opt/anaconda3/envs/OSMNX/lib/python3.9/site-packages/pyarrow/_dataset.pyx:2661\u001b[0m, in \u001b[0;36mpyarrow._dataset.Scanner.to_table\u001b[0;34m()\u001b[0m\n",
      "File \u001b[0;32m~/opt/anaconda3/envs/OSMNX/lib/python3.9/site-packages/pyarrow/error.pxi:144\u001b[0m, in \u001b[0;36mpyarrow.lib.pyarrow_internal_check_status\u001b[0;34m()\u001b[0m\n",
      "File \u001b[0;32m~/opt/anaconda3/envs/OSMNX/lib/python3.9/site-packages/pyarrow/error.pxi:115\u001b[0m, in \u001b[0;36mpyarrow.lib.check_status\u001b[0;34m()\u001b[0m\n",
      "\u001b[0;31mOSError\u001b[0m: Corrupt snappy compressed data."
     ]
    }
   ],
   "source": [
    "### CONFUSION MATRIX ###\n",
    "\n",
    "# true positive: is_artifact==True and intersection_area < 100\n",
    "# true negative: is_artifact==False and intersection_area => 100\n",
    "# false positive: is_artifact==True and intersection_area => 100\n",
    "# false negative: is_artifact==False and intersection_area < 100\n",
    "# note:\n",
    "#   true/false positives make sense (bananas != buildings) BUT\n",
    "#   true/false negatives make less sense (blocks == buildings is not ALWAYS the case)\n",
    "\n",
    "valdict = {}\n",
    "\n",
    "area_thresholds = [a for a in numpy.arange(0, 110, 10)]\n",
    "valdict[\"area_thresholds\"] = area_thresholds\n",
    "\n",
    "for ix, row in tqdm(sample_validation.iterrows(), total=len(sample_validation)):\n",
    "    city = row.eFUA_name\n",
    "    myid = int(row.eFUA_ID)\n",
    "\n",
    "    polygons = geopandas.read_parquet(f\"../data/{myid}/polygons_validation\")\n",
    "\n",
    "    # get area threshold dependent percentage of \"false positives\"\n",
    "    # (i.e. face artifacts that intersect with buildings)\n",
    "    artifact_count = Counter(polygons[\"is_artifact\"])[True]\n",
    "    print(city, artifact_count)\n",
    "    if artifact_count > 0:\n",
    "        false_positives_pct = []\n",
    "        for area_threshold in area_thresholds:\n",
    "            false_positives_pct.append(\n",
    "                100\n",
    "                * len(\n",
    "                    polygons[\n",
    "                        (polygons[\"is_artifact\"] == True)\n",
    "                        & (polygons[\"intersection_area\"] > area_threshold)\n",
    "                    ]\n",
    "                )\n",
    "                / artifact_count\n",
    "            )\n",
    "\n",
    "        valdict[city] = false_positives_pct\n",
    "    # Confusion\n",
    "    # # positives (artifacts)\n",
    "    # polygons.loc[(polygons[\"is_artifact\"]==True)&(polygons[\"intersection_area\"]<100), \"confusion\"] = \"tp\"\n",
    "    # polygons.loc[(polygons[\"is_artifact\"]==True)&(polygons[\"intersection_area\"]>=100), \"confusion\"] = \"fp\"\n",
    "\n",
    "    # # negatives (urban blocks)\n",
    "    # polygons.loc[(polygons[\"is_artifact\"]==False)&(polygons[\"intersection_area\"]<100), \"confusion\"] = \"fn\"\n",
    "    # polygons.loc[(polygons[\"is_artifact\"]==False)&(polygons[\"intersection_area\"]>=100), \"confusion\"] = \"tn\""
   ]
  },
  {
   "cell_type": "code",
   "execution_count": 112,
   "metadata": {},
   "outputs": [
    {
     "data": {
      "text/plain": [
       "dict_keys(['area_thresholds', 'Aleppo', 'Kabul', 'Seoul', 'Semarang', 'Conakry', 'Abidjan', 'Mogadishu', 'Douala', 'Bucaramanga', 'Porto Alegre', 'Krakow', 'Vienna', 'Warsaw', 'Amsterdam', 'Liège', 'Chelyabinsk', 'Nuremberg', 'Saratov', 'Katowice', 'Belgrade', 'Río Piedras [San Juan]'])"
      ]
     },
     "execution_count": 112,
     "metadata": {},
     "output_type": "execute_result"
    }
   ],
   "source": [
    "valdict.keys()"
   ]
  },
  {
   "cell_type": "code",
   "execution_count": 119,
   "metadata": {},
   "outputs": [
    {
     "data": {
      "image/png": "[encoded data removed]",
      "text/plain": [
       "<Figure size 640x480 with 1 Axes>"
      ]
     },
     "metadata": {},
     "output_type": "display_data"
    }
   ],
   "source": [
    "fig, ax = plt.subplots(1, 1)\n",
    "\n",
    "for city in list(valdict.keys())[1:6]:\n",
    "    ax.scatter(x=valdict[\"area_thresholds\"], y=valdict[city], label=city, s=4)\n",
    "ax.set_xlim([-5, 105])\n",
    "ax.set_ylim([-1, 15])\n",
    "ax.set_xlabel(\"Area of building intersection [sqm]\")\n",
    "ax.set_ylabel(\"Percentage of detected face artifacts at this maximum intersection area\")\n",
    "ax.legend();"
   ]
  },
  {
   "cell_type": "markdown",
   "metadata": {},
   "source": [
    "# To Do: \n",
    "\n",
    "* check what is wrong with the Auckland threshold computation (and possibly redo peak conditions in notebook 4)\n",
    "* what we want is for each city, for a range of 10...100sqm (maybe in steps of 10?) - (see how much it changes) the % of true/false positives \n",
    "* some example plots where true/false positives (of face artifacts) are shown\n"
   ]
  },
  {
   "cell_type": "markdown",
   "metadata": {},
   "source": []
  },
  {
   "cell_type": "markdown",
   "metadata": {},
   "source": []
  }
 ],
 "metadata": {
  "kernelspec": {
   "display_name": "Python 3 (ipykernel)",
   "language": "python",
   "name": "python3"
  },
  "language_info": {
   "codemirror_mode": {
    "name": "ipython",
    "version": 3
   },
   "file_extension": ".py",
   "mimetype": "text/x-python",
   "name": "python",
   "nbconvert_exporter": "python",
   "pygments_lexer": "ipython3",
   "version": "3.11.0"
  },
  "vscode": {
   "interpreter": {
    "hash": "35f35e1f0bb92e7ac05765c87ada263d1a2173e12d4a4460e46e5d1567b982a5"
   }
  }
 },
 "nbformat": 4,
 "nbformat_minor": 4
}
