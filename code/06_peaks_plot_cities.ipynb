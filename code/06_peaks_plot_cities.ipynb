{
 "cells": [
  {
   "cell_type": "markdown",
   "metadata": {},
   "source": [
    "# Analysis of distribution of shape statistics\n",
    "\n",
    "**Part 3: plot cities**\n",
    "\n",
    "This notebook visualizes the results of the peak-finding procedure from the previous notebook, `04_peaks_compute`, applied to the geometries of the FUAs. "
   ]
  },
  {
   "cell_type": "code",
   "execution_count": 1,
   "metadata": {},
   "outputs": [],
   "source": [
    "import os\n",
    "\n",
    "os.environ[\"USE_PYGEOS\"] = \"0\"\n",
    "import json\n",
    "import geopandas\n",
    "import pandas\n",
    "import numpy\n",
    "import matplotlib.pyplot as plt\n",
    "from matplotlib import rcParams\n",
    "import seaborn as sns\n",
    "from palettable.cartocolors.qualitative import Bold_6\n",
    "\n",
    "from scipy.signal import find_peaks\n",
    "from scipy.stats import gaussian_kde"
   ]
  },
  {
   "cell_type": "markdown",
   "metadata": {},
   "source": [
    "Set default plotting theme and add color dictionary for continents."
   ]
  },
  {
   "cell_type": "code",
   "execution_count": 2,
   "metadata": {},
   "outputs": [],
   "source": [
    "sns.set_theme(\n",
    "    context=\"paper\",\n",
    "    style=\"ticks\",\n",
    "    rc={\n",
    "        \"patch.force_edgecolor\": False,\n",
    "        \"axes.spines.top\": False,\n",
    "        \"axes.spines.right\": False,\n",
    "        \"axes.grid\": True,\n",
    "    },\n",
    "    palette=Bold_6.hex_colors,\n",
    ")\n",
    "\n",
    "coldict = {\n",
    "    \"Africa\": 0,\n",
    "    \"Asia\": 1,\n",
    "    \"Europe\": 2,\n",
    "    \"North America\": 3,\n",
    "    \"Oceania\": 4,\n",
    "    \"South America\": 5,\n",
    "}"
   ]
  },
  {
   "cell_type": "markdown",
   "metadata": {},
   "source": [
    "Load results from previous notebook"
   ]
  },
  {
   "cell_type": "code",
   "execution_count": 3,
   "metadata": {},
   "outputs": [],
   "source": [
    "results = json.load(open(\"../results/04_peaks_results.json\"))\n",
    "\n",
    "# load parameters (metric names)\n",
    "options = [\n",
    "    \"circular_compactness_index\",\n",
    "    \"isoperimetric_quotient_index\",\n",
    "    \"isoareal_quotient_index\",\n",
    "    \"radii_ratio_index\",\n",
    "    \"diameter_ratio_index\",\n",
    "]"
   ]
  },
  {
   "cell_type": "markdown",
   "metadata": {},
   "source": [
    "Load sample meta data"
   ]
  },
  {
   "cell_type": "code",
   "execution_count": 4,
   "metadata": {},
   "outputs": [],
   "source": [
    "sample = geopandas.read_parquet(\"../data/sample.parquet\")"
   ]
  },
  {
   "cell_type": "markdown",
   "metadata": {},
   "source": [
    "Plot settings and subfolders"
   ]
  },
  {
   "cell_type": "code",
   "execution_count": 5,
   "metadata": {},
   "outputs": [],
   "source": [
    "mydirs = [\n",
    "    \"../plots/cities/birdview\",\n",
    "    \"..plots/cities/detail\",\n",
    "]\n",
    "\n",
    "for mydir in mydirs:\n",
    "    os.makedirs(mydir, exist_ok=True)\n",
    "\n",
    "rcParams.update({\"figure.autolayout\": True})"
   ]
  },
  {
   "cell_type": "markdown",
   "metadata": {},
   "source": [
    "Birdview plots of detected graph face artefacts, using circular compactness index threshold as metric"
   ]
  },
  {
   "cell_type": "code",
   "execution_count": 6,
   "metadata": {},
   "outputs": [
    {
     "name": "stdout",
     "output_type": "stream",
     "text": [
      "No threshold found for Gonda\n",
      "Plotted Chongqing\n",
      "No threshold found for Comilla\n",
      "No threshold found for Abbottabad\n",
      "Plotted Luohe\n",
      "Plotted Lucknow\n",
      "Plotted Wuhan\n",
      "Plotted Nantong\n",
      "Plotted Jaipur\n",
      "Plotted Yongkang\n",
      "Plotted Aleppo\n",
      "Plotted Xingtai\n",
      "No threshold found for Karachi\n",
      "Plotted Qinhuangdao\n",
      "Plotted Tbilisi\n",
      "Plotted Mandalay\n",
      "Plotted Kabul\n",
      "Plotted Basra\n",
      "Plotted Seoul\n",
      "Plotted Guangzhou\n",
      "No threshold found for Dhaka\n",
      "Plotted Agra\n",
      "Plotted Weifang\n",
      "No threshold found for Jombang\n",
      "Plotted Semarang\n",
      "Plotted Accra\n",
      "Plotted Oran\n",
      "No threshold found for Al-Zaqaziq‎\n",
      "Plotted Conakry\n",
      "No threshold found for Tanta\n",
      "Plotted Addis Ababa\n",
      "Plotted Abidjan\n",
      "Plotted Amaigbo\n",
      "Plotted Ouagadougou\n",
      "Plotted Kananga\n",
      "No threshold found for Ibadan\n",
      "Plotted Mombasa\n",
      "Plotted Mogadishu\n",
      "Plotted Tripoli\n",
      "Plotted Cape Town\n",
      "No threshold found for Fez\n",
      "Plotted Khartoum\n",
      "Plotted Maiduguri\n",
      "Plotted Abuja\n",
      "No threshold found for Agadir\n",
      "Plotted N'Djamena\n",
      "Plotted Tunis\n",
      "Plotted Douala\n",
      "Plotted Niamey\n",
      "No threshold found for Monrovia\n",
      "Plotted Lima\n",
      "Plotted Maceió\n",
      "Plotted Natal\n",
      "Plotted Maracay\n",
      "Plotted Bucaramanga\n",
      "Plotted Maracaibo\n",
      "Plotted Buenos Aires\n",
      "Plotted Porto Alegre\n",
      "Plotted Manaus\n",
      "Plotted Rosario\n",
      "Plotted Cochabamba\n",
      "Plotted Salvador\n",
      "Plotted Medellín\n",
      "Plotted Belo Horizonte\n",
      "Plotted Santos\n",
      "Plotted Curitiba\n",
      "Plotted Valencia\n",
      "Plotted São Paulo\n",
      "Plotted Belém\n",
      "Plotted São Luís\n",
      "Plotted Quito\n",
      "Plotted Cali\n",
      "No threshold found for Recife\n",
      "Plotted Mendoza\n",
      "Plotted Santiago\n",
      "Plotted Perth\n",
      "Plotted Adelaide\n",
      "Plotted Melbourne\n",
      "Plotted Sydney\n",
      "Plotted Brisbane\n",
      "Plotted Auckland\n",
      "Plotted Krakow\n",
      "Plotted Vienna\n",
      "Plotted Warsaw\n",
      "Plotted Cologne\n",
      "Plotted Dortmund\n",
      "Plotted London\n",
      "Plotted Amsterdam\n",
      "Plotted Liège\n",
      "Plotted Chelyabinsk\n",
      "Plotted Glasgow\n",
      "Plotted Kyiv\n",
      "Plotted Athens\n",
      "Plotted Leeds\n",
      "No threshold found for Seville\n",
      "Plotted Nuremberg\n",
      "Plotted Saratov\n",
      "Plotted Katowice\n",
      "Plotted Barcelona\n",
      "Plotted Helsinki\n",
      "Plotted Sofia\n",
      "Plotted Lisbon\n",
      "Plotted Moscow\n",
      "Plotted Cardiff\n",
      "Plotted Belgrade\n",
      "Plotted Voronezh\n",
      "Plotted Río Piedras [San Juan]\n",
      "Plotted Vancouver\n",
      "Plotted Toluca\n",
      "Plotted San Jose\n",
      "Plotted Torreon\n",
      "Plotted Managua\n",
      "Plotted Guatemala City\n",
      "Plotted Washington D.C.\n",
      "Plotted Ottawa\n",
      "Plotted Tegucigalpa\n",
      "Plotted St. Louis\n",
      "Plotted Tijuana\n",
      "Plotted Pittsburgh\n",
      "Plotted Las Vegas\n",
      "Plotted Richmond\n",
      "Plotted Dallas\n",
      "Plotted Philadelphia\n",
      "Plotted Cincinnati\n",
      "Plotted Orlando\n",
      "Plotted Salt Lake City\n",
      "Plotted San Salvador\n",
      "Plotted Raleigh\n",
      "Plotted Montreal\n",
      "Plotted Kansas City\n",
      "Plotted Sacramento\n"
     ]
    }
   ],
   "source": [
    "option = \"circular_compactness_index\"\n",
    "\n",
    "for city in results.keys():\n",
    "\n",
    "    threshold = results[city][option][\"threshold\"]\n",
    "\n",
    "    if threshold:\n",
    "        # get block data for current city\n",
    "        city_id = int(sample.loc[sample[\"eFUA_name\"]==city, \"eFUA_ID\"].values)\n",
    "        fua = geopandas.read_parquet(f\"../data/{int(city_id)}/polygons/\")\n",
    "        \n",
    "        # initialize figure\n",
    "        fig, ax = plt.subplots(1, 1, figsize=(20, 20))\n",
    "\n",
    "        # plot FUA boundary\n",
    "        sample[sample[\"eFUA_name\"]==city].to_crs(fua.crs).exterior.plot(\n",
    "            ax=ax, linewidth = 3, color = \"black\", linestyle = \"dotted\")\n",
    "\n",
    "        # plot street artifacts\n",
    "        fua[fua[\"circular_compactness_index\"] <= threshold].plot(\n",
    "            ax=ax, color=\"red\", alpha=1\n",
    "        )\n",
    "\n",
    "        ax.set_axis_off()\n",
    "\n",
    "        plt.rc(\"figure\", titlesize=50)\n",
    "        fig.suptitle(city.capitalize())\n",
    "        fig.savefig(\n",
    "            f\"../plots/cities/birdview/{city}.png\", dpi=300, bbox_inches=\"tight\"\n",
    "        )\n",
    "        plt.close()\n",
    "        print(f\"Plotted {city}\")\n",
    "    else:  # if no threshold has been found, try to estimate one\n",
    "       print(f\"No threshold found for {city}\")"
   ]
  }
 ],
 "metadata": {
  "kernelspec": {
   "display_name": "Python 3 (ipykernel)",
   "language": "python",
   "name": "python3"
  },
  "language_info": {
   "codemirror_mode": {
    "name": "ipython",
    "version": 3
   },
   "file_extension": ".py",
   "mimetype": "text/x-python",
   "name": "python",
   "nbconvert_exporter": "python",
   "pygments_lexer": "ipython3",
   "version": "3.9.15"
  },
  "vscode": {
   "interpreter": {
    "hash": "35f35e1f0bb92e7ac05765c87ada263d1a2173e12d4a4460e46e5d1567b982a5"
   }
  }
 },
 "nbformat": 4,
 "nbformat_minor": 4
}
