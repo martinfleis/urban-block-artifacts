{
 "cells": [
  {
   "cell_type": "markdown",
   "metadata": {},
   "source": [
    "# Analysis of distribution of shape statistics\n",
    "\n",
    "**Part 1: Compute**\n",
    "\n",
    "This notebook uses indices capturing relationship between shape metrics and area of polygons across all FUAs, identifies peaks and valleys in the distribution using KDE and assesses performance of each shape metric in distinguishing between face polygons and face artifacts."
   ]
  },
  {
   "cell_type": "code",
   "execution_count": 1,
   "metadata": {
    "tags": []
   },
   "outputs": [],
   "source": [
    "import os\n",
    "\n",
    "os.environ[\"USE_PYGEOS\"] = \"0\"\n",
    "import json\n",
    "import geopandas\n",
    "import pandas\n",
    "import numpy\n",
    "import matplotlib.pyplot as plt\n",
    "from matplotlib import rcParams\n",
    "import seaborn as sns\n",
    "from palettable.cartocolors.qualitative import Bold_6\n",
    "\n",
    "from scipy.signal import find_peaks\n",
    "from scipy.stats import gaussian_kde"
   ]
  },
  {
   "cell_type": "markdown",
   "metadata": {},
   "source": [
    "Set default plotting theme and add color dictionary for continents."
   ]
  },
  {
   "cell_type": "code",
   "execution_count": 5,
   "metadata": {
    "tags": []
   },
   "outputs": [],
   "source": [
    "sns.set_theme(\n",
    "    context=\"paper\",\n",
    "    style=\"ticks\",\n",
    "    rc={\n",
    "        \"patch.force_edgecolor\": False,\n",
    "        \"axes.spines.top\": False,\n",
    "        \"axes.spines.right\": False,\n",
    "        \"axes.grid\": True,\n",
    "    },\n",
    "    palette=Bold_6.hex_colors,\n",
    ")\n",
    "\n",
    "coldict = {\n",
    "    \"Africa\": 0,\n",
    "    \"Asia\": 1,\n",
    "    \"Europe\": 2,\n",
    "    \"North America\": 3,\n",
    "    \"Oceania\": 4,\n",
    "    \"South America\": 5,\n",
    "}"
   ]
  },
  {
   "cell_type": "markdown",
   "metadata": {},
   "source": [
    "Load the data and combine them to a single GeoDataFrame."
   ]
  },
  {
   "cell_type": "code",
   "execution_count": 3,
   "metadata": {},
   "outputs": [],
   "source": [
    "sample = geopandas.read_parquet(\"../data/sample.parquet\")\n",
    "\n",
    "all_poly = []\n",
    "for i, row in sample.iterrows():\n",
    "    fua = geopandas.read_parquet(f\"../data/{int(row.eFUA_ID)}/polygons/\")\n",
    "    fua[\"continent\"] = row.continent\n",
    "    fua[\"country\"] = row.Cntry_name\n",
    "    fua[\"name\"] = row.eFUA_name\n",
    "    fua.crs = None\n",
    "    all_poly.append(fua)\n",
    "all_poly_data = pandas.concat(all_poly).reset_index(drop=True)"
   ]
  },
  {
   "cell_type": "markdown",
   "metadata": {},
   "source": [
    "Set parameters and options for PDF estimation and peak finding; then, generate kernel density estimation (KDE) function for each FUA and each shape metric. Save local minima and maxima (\"peaks\" and \"valleys\"), their locations and probability density functions for further analysis."
   ]
  },
  {
   "cell_type": "code",
   "execution_count": 6,
   "metadata": {
    "tags": []
   },
   "outputs": [],
   "source": [
    "# set parameters\n",
    "options = [\n",
    "    \"circular_compactness_index\",\n",
    "    \"isoperimetric_quotient_index\",\n",
    "    \"isoareal_quotient_index\",\n",
    "    \"radii_ratio_index\",\n",
    "    \"diameter_ratio_index\",\n",
    "]\n",
    "\n",
    "# parameter for pdf fitting\n",
    "npoints = 1000\n",
    "\n",
    "# parameters for peak/valley finding\n",
    "peak_parameters = {\n",
    "    \"height_mins\": numpy.NINF,  # no minimal/maximal height for local minima of f (i.e. for peaks of 1-f); setting minimum height to negative inf to nevertheless obtain y-axis peak heights from function\n",
    "    \"height_maxs\": 0.008,  # minimal height for local maxima of f, to exclude noise; but no maximal height for those peaks\n",
    "    \"prominence\": 0.00075,\n",
    "}"
   ]
  },
  {
   "cell_type": "code",
   "execution_count": 5,
   "metadata": {},
   "outputs": [],
   "source": [
    "# local minima/maxima of KDEs for each FUA and each metric\n",
    "\n",
    "results = {}\n",
    "\n",
    "for city in all_poly_data.name.unique():\n",
    "    # to store results\n",
    "    results[city] = {}\n",
    "\n",
    "    # filter for data of only this city\n",
    "    fua = all_poly_data[all_poly_data.name == city]\n",
    "\n",
    "    for option in options:\n",
    "        # to store results\n",
    "        results[city][option] = {}\n",
    "\n",
    "        # get data for current option, using log of data\n",
    "        data = numpy.log(fua[option])\n",
    "\n",
    "        # fit Gaussian KDE\n",
    "        kde = gaussian_kde(data, bw_method=\"silverman\")\n",
    "\n",
    "        # define linear space\n",
    "        mylinspace = numpy.linspace(data.min(), data.max(), npoints)\n",
    "\n",
    "        # generate probability density function\n",
    "        pdf = kde.pdf(mylinspace)\n",
    "\n",
    "        # find peaks\n",
    "        peaks, d_peaks = find_peaks(\n",
    "            x=pdf,\n",
    "            height=peak_parameters[\"height_maxs\"],\n",
    "            threshold=None,\n",
    "            distance=None,\n",
    "            prominence=peak_parameters[\"prominence\"],\n",
    "            width=1,\n",
    "            plateau_size=None,\n",
    "        )\n",
    "\n",
    "        # find valleys\n",
    "        valleys, d_valleys = find_peaks(\n",
    "            x=-pdf + 1,\n",
    "            height=peak_parameters[\"height_mins\"],\n",
    "            threshold=None,\n",
    "            distance=None,\n",
    "            prominence=peak_parameters[\"prominence\"],\n",
    "            width=1,\n",
    "            plateau_size=None,\n",
    "        )\n",
    "\n",
    "        # store results\n",
    "        results[city][option][\"linspace_params\"] = {\n",
    "            \"start\": data.min(),\n",
    "            \"stop\": data.max(),\n",
    "            \"num\": npoints,\n",
    "        }\n",
    "        results[city][option][\"pdf\"] = pdf.tolist()\n",
    "        results[city][option][\"peaks\"] = peaks.tolist()\n",
    "        results[city][option][\"d_peaks\"] = d_peaks\n",
    "        results[city][option][\"valleys\"] = valleys.tolist()\n",
    "        results[city][option][\"d_valleys\"] = d_valleys"
   ]
  },
  {
   "cell_type": "markdown",
   "metadata": {},
   "source": [
    "Now, for each FUA and each metric, check whether the following conditions are fulfilled:\n",
    "* At least 2 peaks have been found\n",
    "* At least 1 valley has been found\n",
    "\n",
    "If both these conditions are fulfilled, we identify the artifact threshold for the given FUA and given metric as the location of the *first* valley that lies between 2 peaks, one of which *is the highest one*. In case this threshold has been found, we also quantify its power by computing the vertical distance between the highest peak and the valley to its left."
   ]
  },
  {
   "cell_type": "code",
   "execution_count": 7,
   "metadata": {},
   "outputs": [],
   "source": [
    "for city in all_poly_data.name.unique():\n",
    "    for option in options:\n",
    "        # initially, set threshold and threshold_distance to False\n",
    "        results[city][option][\"threshold\"] = False\n",
    "        results[city][option][\"threshold_distance\"] = False\n",
    "\n",
    "        # check if we have at least 2 peaks\n",
    "        condition_2peaks = len(results[city][option][\"peaks\"]) > 1\n",
    "\n",
    "        # check if we have at least 1 valley\n",
    "        condition_1valley = len(results[city][option][\"valleys\"]) > 0\n",
    "\n",
    "        conditions = [condition_2peaks, condition_1valley]\n",
    "\n",
    "        # if both these conditions are true, we find the artifact index\n",
    "        if all(conditions):\n",
    "            # find list order of highest peak\n",
    "            highest_peak_listindex = numpy.argmax(\n",
    "                results[city][option][\"d_peaks\"][\"peak_heights\"]\n",
    "            )\n",
    "            # find index (in linspace) of highest peak\n",
    "            highest_peak_index = results[city][option][\"peaks\"][highest_peak_listindex]\n",
    "            # define all possible peak ranges fitting our definition (one of them must be the highest peak)\n",
    "            peak_bounds = [\n",
    "                z\n",
    "                for z in zip(\n",
    "                    results[city][option][\"peaks\"], results[city][option][\"peaks\"][1:]\n",
    "                )\n",
    "            ]\n",
    "            peak_bounds_accepted = [b for b in peak_bounds if highest_peak_index in b]\n",
    "            # find all valleys that lie between two peaks, one of which is the highest one\n",
    "            valleys_accepted = [\n",
    "                v_index\n",
    "                for v_index in results[city][option][\"valleys\"]\n",
    "                if any([v_index in range(b[0], b[1]) for b in peak_bounds_accepted])\n",
    "            ]\n",
    "            # the value of the first of those valleys is our artifact index\n",
    "            # get the order of the valley\n",
    "            valley_index = valleys_accepted[0]\n",
    "            # get the index (in linspace) of the valley\n",
    "            valley_listindex = numpy.where(\n",
    "                numpy.array(results[city][option][\"valleys\"]) == valley_index\n",
    "            )[0][0]\n",
    "\n",
    "            # recreate linear space that our indeces refer to\n",
    "            mylinspace = numpy.linspace(\n",
    "                start=results[city][option][\"linspace_params\"][\"start\"],\n",
    "                stop=results[city][option][\"linspace_params\"][\"stop\"],\n",
    "                num=results[city][option][\"linspace_params\"][\"num\"],\n",
    "            )\n",
    "\n",
    "            # derive threshold value for given option from index/linspace\n",
    "            my_threshold = float(numpy.exp(mylinspace[valley_index]))\n",
    "\n",
    "            # copy threshold value to dict\n",
    "            results[city][option][\"threshold\"] = my_threshold\n",
    "\n",
    "            # compute vertical (y-axis) distance between peak and valley to express power of metric\n",
    "            mypeak = results[city][option][\"d_peaks\"][\"peak_heights\"][\n",
    "                highest_peak_listindex\n",
    "            ]\n",
    "            myvalley = (\n",
    "                1 - results[city][option][\"d_valleys\"][\"peak_heights\"][valley_listindex]\n",
    "            )\n",
    "            mydist = mypeak - myvalley\n",
    "            results[city][option][\"threshold_distance\"] = mydist"
   ]
  },
  {
   "cell_type": "markdown",
   "metadata": {},
   "source": [
    "Delete not needed arrays from results"
   ]
  },
  {
   "cell_type": "code",
   "execution_count": 14,
   "metadata": {},
   "outputs": [],
   "source": [
    "# remove numpy arrays with not needed data from result dict\n",
    "for city in all_poly_data.name.unique():\n",
    "    for option in options:\n",
    "        results[city][option][\"peak_heights\"] = results[city][option][\"d_peaks\"][\n",
    "            \"peak_heights\"\n",
    "        ].tolist()\n",
    "        del results[city][option][\"d_peaks\"]\n",
    "\n",
    "        results[city][option][\"valley_heights\"] = results[city][option][\"d_valleys\"][\n",
    "            \"peak_heights\"\n",
    "        ].tolist()\n",
    "        del results[city][option][\"d_valleys\"]"
   ]
  },
  {
   "cell_type": "markdown",
   "metadata": {},
   "source": [
    "Save all results so far"
   ]
  },
  {
   "cell_type": "code",
   "execution_count": 15,
   "metadata": {},
   "outputs": [],
   "source": [
    "with open(\"../results/04_peaks_results.json\", \"w\") as fp:\n",
    "    json.dump(results, fp)"
   ]
  },
  {
   "cell_type": "markdown",
   "metadata": {},
   "source": [
    "**Compare peak results for different metrics**\n",
    "\n",
    "Brief visual assessment (summary stats of peak finding procedure)"
   ]
  },
  {
   "cell_type": "code",
   "execution_count": 3,
   "metadata": {
    "tags": []
   },
   "outputs": [],
   "source": [
    "with open(\"../results/04_peaks_results.json\", \"r\") as fp:\n",
    "    results = json.load(fp)"
   ]
  },
  {
   "cell_type": "code",
   "execution_count": 62,
   "metadata": {
    "tags": []
   },
   "outputs": [],
   "source": [
    "# os.makedirs(\"../plots/peaks/stats\", exist_ok=True)\n",
    "rcParams.update({\"figure.autolayout\": True})\n",
    "option_labels = [opt.replace(\"_\", \" \") for opt in options]\n",
    "mybarwidth = 0.5"
   ]
  },
  {
   "cell_type": "code",
   "execution_count": 59,
   "metadata": {
    "tags": []
   },
   "outputs": [
    {
     "name": "stderr",
     "output_type": "stream",
     "text": [
      "/tmp/ipykernel_3376902/1756420807.py:12: UserWarning: FixedFormatter should only be used together with FixedLocator\n",
      "  ax.set_xticklabels(option_labels, rotation=90)\n"
     ]
    },
    {
     "data": {
      "image/png": "[encoded data removed]",
      "text/plain": [
       "<Figure size 640x480 with 1 Axes>"
      ]
     },
     "metadata": {},
     "output_type": "display_data"
    }
   ],
   "source": [
    "# which metric is most successful at identifying a threshold for each FUA?\n",
    "\n",
    "thresholds_found = [\n",
    "    sum([results[city][option][\"threshold\"] != False for city in results.keys()])\n",
    "    for option in options\n",
    "]\n",
    "thresholds_found_pct = [100 * t / len(results.keys()) for t in thresholds_found]\n",
    "\n",
    "fig, ax = plt.subplots(1, 1)\n",
    "ax.bar(x=option_labels, height=thresholds_found_pct, width=mybarwidth)\n",
    "ax.set_ylim((0, 100))\n",
    "ax.set_xticklabels(option_labels, rotation=90)\n",
    "ax.set_xlabel(\"Shape metric\")\n",
    "ax.set_ylabel(\"Percentage [%] of FUA thresholds found\")\n",
    "# ax.set_title(\"Comparison of metrics: what percentage of thresholds could be found?\");\n",
    "\n",
    "fig.savefig(\"../plots/peaks/stats/metric_percentages.png\", dpi=300)"
   ]
  },
  {
   "cell_type": "code",
   "execution_count": 64,
   "metadata": {
    "tags": []
   },
   "outputs": [
    {
     "name": "stderr",
     "output_type": "stream",
     "text": [
      "/tmp/ipykernel_3376902/4155989544.py:15: UserWarning: FixedFormatter should only be used together with FixedLocator\n",
      "  ax.set_xticklabels(option_labels, rotation=90)\n"
     ]
    },
    {
     "data": {
      "image/png": "[encoded data removed]",
      "text/plain": [
       "<Figure size 640x480 with 1 Axes>"
      ]
     },
     "metadata": {},
     "output_type": "display_data"
    }
   ],
   "source": [
    "fig, ax = plt.subplots(1, 1)\n",
    "\n",
    "mean_distances_found = [\n",
    "    numpy.average(\n",
    "        [\n",
    "            results[city][option][\"threshold_distance\"]\n",
    "            for city in results.keys()\n",
    "            if results[city][option][\"threshold_distance\"] != False\n",
    "        ]\n",
    "    )\n",
    "    for option in options\n",
    "]\n",
    "\n",
    "ax.bar(x=option_labels, height=mean_distances_found, width=mybarwidth)\n",
    "ax.set_xticklabels(option_labels, rotation=90)\n",
    "# ax.set_ylim((0,1))\n",
    "ax.set_xlabel(\"Shape metric\")\n",
    "ax.set_ylabel(\"Mean distance\")\n",
    "# ax.set_title(\n",
    "#     \"Comparison of metrics: how pronounced are the thresholds that could be found?\"\n",
    "# )\n",
    "\n",
    "fig.savefig(\"../plots/peaks/stats/metric_thresholds.png\", dpi=300)"
   ]
  },
  {
   "cell_type": "markdown",
   "metadata": {},
   "source": [
    "Print the actual values."
   ]
  },
  {
   "cell_type": "code",
   "execution_count": 46,
   "metadata": {
    "tags": []
   },
   "outputs": [
    {
     "data": {
      "text/plain": [
       "([89.31297709923665,\n",
       "  83.20610687022901,\n",
       "  58.778625954198475,\n",
       "  63.3587786259542,\n",
       "  83.20610687022901],\n",
       " [117, 109, 77, 83, 109],\n",
       " [0.32181606181658595,\n",
       "  0.32237192509147755,\n",
       "  0.28179518731316544,\n",
       "  0.292788437639976,\n",
       "  0.2989591925415576])"
      ]
     },
     "execution_count": 46,
     "metadata": {},
     "output_type": "execute_result"
    }
   ],
   "source": [
    "thresholds_found_pct, thresholds_found, mean_distances_found"
   ]
  },
  {
   "cell_type": "markdown",
   "metadata": {},
   "source": [
    "Check if they agree on FUAs."
   ]
  },
  {
   "cell_type": "code",
   "execution_count": 23,
   "metadata": {
    "tags": []
   },
   "outputs": [],
   "source": [
    "bools = {\n",
    "    option: numpy.asarray(\n",
    "        [results[city][option][\"threshold\"] != False for city in results.keys()]\n",
    "    )\n",
    "    for option in options\n",
    "}"
   ]
  },
  {
   "cell_type": "markdown",
   "metadata": {
    "tags": []
   },
   "source": [
    "Check if isoperimetric quotient and diameter ratio found the same 109 cases."
   ]
  },
  {
   "cell_type": "code",
   "execution_count": 24,
   "metadata": {
    "tags": []
   },
   "outputs": [
    {
     "data": {
      "text/plain": [
       "False"
      ]
     },
     "execution_count": 24,
     "metadata": {},
     "output_type": "execute_result"
    }
   ],
   "source": [
    "(bools[\"isoperimetric_quotient_index\"] == bools[\"diameter_ratio_index\"]).all()"
   ]
  },
  {
   "cell_type": "markdown",
   "metadata": {},
   "source": [
    "Is there any that did detect threshold where circular compactness did not?"
   ]
  },
  {
   "cell_type": "code",
   "execution_count": 43,
   "metadata": {
    "tags": []
   },
   "outputs": [
    {
     "name": "stdout",
     "output_type": "stream",
     "text": [
      "isoperimetric_quotient_index: ['Ibadan']\n",
      "isoareal_quotient_index: ['Tanta' 'Ibadan']\n",
      "radii_ratio_index: ['Ibadan']\n",
      "diameter_ratio_index: ['Dhaka' 'Jombang' 'Recife']\n"
     ]
    }
   ],
   "source": [
    "no_circom = bools[\"circular_compactness_index\"] == False\n",
    "no_circom_names = numpy.asarray(list(results.keys()))[no_circom]\n",
    "for option in options:\n",
    "    if bools[option][no_circom].any():\n",
    "        print(f\"{option}: {no_circom_names[bools[option][no_circom]]}\")"
   ]
  },
  {
   "cell_type": "code",
   "execution_count": 49,
   "metadata": {
    "tags": []
   },
   "outputs": [],
   "source": [
    "gla = results[\"Glasgow\"][\"circular_compactness_index\"]"
   ]
  },
  {
   "cell_type": "code",
   "execution_count": 50,
   "metadata": {
    "tags": []
   },
   "outputs": [
    {
     "data": {
      "text/plain": [
       "dict_keys(['linspace_params', 'pdf', 'peaks', 'valleys', 'threshold', 'threshold_distance', 'peak_heights', 'valley_heights'])"
      ]
     },
     "execution_count": 50,
     "metadata": {},
     "output_type": "execute_result"
    }
   ],
   "source": [
    "gla.keys()"
   ]
  },
  {
   "cell_type": "code",
   "execution_count": 51,
   "metadata": {
    "tags": []
   },
   "outputs": [
    {
     "data": {
      "text/plain": [
       "[601, 706]"
      ]
     },
     "execution_count": 51,
     "metadata": {},
     "output_type": "execute_result"
    }
   ],
   "source": [
    "gla[\"peaks\"]"
   ]
  },
  {
   "cell_type": "code",
   "execution_count": 52,
   "metadata": {
    "tags": []
   },
   "outputs": [
    {
     "data": {
      "text/plain": [
       "[388, 654]"
      ]
     },
     "execution_count": 52,
     "metadata": {},
     "output_type": "execute_result"
    }
   ],
   "source": [
    "gla[\"valleys\"]"
   ]
  },
  {
   "cell_type": "code",
   "execution_count": 54,
   "metadata": {
    "tags": []
   },
   "outputs": [
    {
     "data": {
      "text/plain": [
       "1060.9916985806951"
      ]
     },
     "execution_count": 54,
     "metadata": {},
     "output_type": "execute_result"
    }
   ],
   "source": [
    "gla[\"threshold\"]"
   ]
  },
  {
   "cell_type": "code",
   "execution_count": 56,
   "metadata": {
    "tags": []
   },
   "outputs": [
    {
     "data": {
      "text/plain": [
       "0.063636669053206"
      ]
     },
     "execution_count": 56,
     "metadata": {},
     "output_type": "execute_result"
    }
   ],
   "source": [
    "gla[\"pdf\"][654]"
   ]
  },
  {
   "cell_type": "code",
   "execution_count": null,
   "metadata": {},
   "outputs": [],
   "source": []
  }
 ],
 "metadata": {
  "kernelspec": {
   "display_name": "Python 3 (ipykernel)",
   "language": "python",
   "name": "python3"
  },
  "language_info": {
   "codemirror_mode": {
    "name": "ipython",
    "version": 3
   },
   "file_extension": ".py",
   "mimetype": "text/x-python",
   "name": "python",
   "nbconvert_exporter": "python",
   "pygments_lexer": "ipython3",
   "version": "3.11.0"
  },
  "vscode": {
   "interpreter": {
    "hash": "35f35e1f0bb92e7ac05765c87ada263d1a2173e12d4a4460e46e5d1567b982a5"
   }
  }
 },
 "nbformat": 4,
 "nbformat_minor": 4
}
