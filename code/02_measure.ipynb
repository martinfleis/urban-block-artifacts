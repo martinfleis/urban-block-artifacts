{
 "cells": [
  {
   "cell_type": "markdown",
   "metadata": {},
   "source": [
    "# Analyse a sample of FUAs\n",
    "\n",
    "This notebook produces face polygons and computes shape metrics for each of them."
   ]
  },
  {
   "cell_type": "code",
   "execution_count": 1,
   "metadata": {},
   "outputs": [],
   "source": [
    "import warnings\n",
    "\n",
    "import geopandas\n",
    "import dask_geopandas\n",
    "import numpy\n",
    "import pygeos\n",
    "import esda.shape as shape\n",
    "\n",
    "from tqdm import tqdm"
   ]
  },
  {
   "cell_type": "code",
   "execution_count": 2,
   "metadata": {},
   "outputs": [],
   "source": [
    "sample = geopandas.read_parquet(\"../data/sample.parquet\")"
   ]
  },
  {
   "cell_type": "markdown",
   "metadata": {},
   "source": [
    "## Measure shape characteristics\n",
    "\n",
    "Polygonize the network to get polygons fully enclosed by street network geometry (face polygons) and measure their shape characteristics."
   ]
  },
  {
   "cell_type": "code",
   "execution_count": 3,
   "metadata": {},
   "outputs": [
    {
     "name": "stderr",
     "output_type": "stream",
     "text": [
      "100%|█████████████████████████████████████████████████████████████████████████████████████████████████████████████████████████████████████████████| 131/131 [07:01<00:00,  3.22s/it]\n"
     ]
    }
   ],
   "source": [
    "# Filter warnings about GeoParquet implementation.\n",
    "warnings.filterwarnings('ignore', message='.*initial implementation of Parquet.*')\n",
    "\n",
    "# Loop over unique FUA IDs\n",
    "for fua_id in tqdm(sample.eFUA_ID, total=len(sample)):\n",
    "    # Read stret network\n",
    "    roads = geopandas.read_parquet(f\"../data/{int(fua_id)}/roads_osm.parquet\")\n",
    "\n",
    "    # remove service roads\n",
    "    roads = roads[roads.highway != \"service\"]\n",
    "\n",
    "    # Polygonize street network\n",
    "    polygons = pygeos.polygonize(roads.geometry.array.data)\n",
    "    \n",
    "    # Store geometries as a GeoDataFrame\n",
    "    polygons = geopandas.GeoDataFrame(\n",
    "        geometry=geopandas.GeoSeries(\n",
    "            [polygons], crs=roads.crs\n",
    "        ).explode(ignore_index=True)\n",
    "    )\n",
    "    \n",
    "    # Ensure all polygons are valid\n",
    "    if not polygons.is_valid.all():\n",
    "        polygons = geopandas.GeoDataFrame(\n",
    "        geometry=geopandas.GeoSeries(\n",
    "            pygeos.make_valid(polygons.geometry.values.data), crs=roads.crs\n",
    "        ).explode(ignore_index=True)\n",
    "    )\n",
    "    \n",
    "    # Ensure that all geometries are polygons\n",
    "    if not (polygons.geom_type == \"Polygon\").all():\n",
    "        polygons = polygons[polygons.geom_type == \"Polygon\"].reset_index(drop=True)\n",
    "\n",
    "    area = polygons.area\n",
    "\n",
    "    # measure (circular) compactness\n",
    "    polygons[\"circular_compactness\"] = shape.minimum_bounding_circle_ratio(polygons)\n",
    "    polygons[\"circular_compactness_index\"] = polygons[\"circular_compactness\"] * area\n",
    "    \n",
    "    # isoperimetric_quotient\n",
    "    polygons[\"isoperimetric_quotient\"] = shape.isoperimetric_quotient(polygons)\n",
    "    polygons[\"isoperimetric_quotient_index\"] = polygons[\"isoperimetric_quotient\"] * area\n",
    "\n",
    "\n",
    "    # isoareal_quotient\n",
    "    polygons[\"isoareal_quotient\"] = shape.isoareal_quotient(polygons)\n",
    "    polygons[\"isoareal_quotient_index\"] = polygons[\"isoareal_quotient\"] * area\n",
    "\n",
    "    # radii_ratio\n",
    "    polygons[\"radii_ratio\"] = shape.radii_ratio(polygons)\n",
    "    polygons[\"radii_ratio_index\"] = polygons[\"radii_ratio\"] * area\n",
    "\n",
    "    # diameter_ratio\n",
    "    polygons[\"diameter_ratio\"] = shape.diameter_ratio(polygons)\n",
    "    polygons[\"diameter_ratio_index\"] = polygons[\"diameter_ratio\"] * area\n",
    "\n",
    "    # fractal_dimension\n",
    "    polygons[\"fractal_dimension\"] = shape.fractal_dimension(polygons, support=\"square\")\n",
    "    polygons[\"fractal_dimension_index\"] = polygons[\"fractal_dimension\"] * area\n",
    "\n",
    "    # save polygons to a partitioned GeoParquet\n",
    "    polygons = dask_geopandas.from_geopandas(polygons, npartitions=10)\n",
    "    polygons.to_parquet(f\"../data/{int(fua_id)}/polygons/\")"
   ]
  },
  {
   "cell_type": "code",
   "execution_count": null,
   "metadata": {},
   "outputs": [],
   "source": []
  }
 ],
 "metadata": {
  "kernelspec": {
   "display_name": "stable",
   "language": "python",
   "name": "stable"
  },
  "language_info": {
   "codemirror_mode": {
    "name": "ipython",
    "version": 3
   },
   "file_extension": ".py",
   "mimetype": "text/x-python",
   "name": "python",
   "nbconvert_exporter": "python",
   "pygments_lexer": "ipython3",
   "version": "3.10.8 | packaged by conda-forge | (main, Nov 22 2022, 08:25:13) [Clang 14.0.6 ]"
  },
  "vscode": {
   "interpreter": {
    "hash": "8d1b2c984ad473d756980598d6fae8279815dc9c89a9d51a262cfb04eba7ee8f"
   }
  }
 },
 "nbformat": 4,
 "nbformat_minor": 4
}
