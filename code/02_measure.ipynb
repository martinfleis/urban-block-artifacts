{
 "cells": [
  {
   "cell_type": "markdown",
   "metadata": {},
   "source": [
    "# Analyse a sample of FUAs\n",
    "\n",
    "This notebook produces face polygons and computes shape metrics for each of them."
   ]
  },
  {
   "cell_type": "code",
   "execution_count": 1,
   "metadata": {},
   "outputs": [
    {
     "name": "stderr",
     "output_type": "stream",
     "text": [
      "/tmp/ipykernel_3144912/4077717691.py:6: UserWarning: Shapely 2.0 is installed, but because PyGEOS is also installed, GeoPandas will still use PyGEOS by default for now. To force to use and test Shapely 2.0, you have to set the environment variable USE_PYGEOS=0. You can do this before starting the Python process, or in your code before importing geopandas:\n",
      "\n",
      "import os\n",
      "os.environ['USE_PYGEOS'] = '0'\n",
      "import geopandas\n",
      "\n",
      "In a future release, GeoPandas will switch to using Shapely by default. If you are using PyGEOS directly (calling PyGEOS functions on geometries from GeoPandas), this will then stop working and you are encouraged to migrate from PyGEOS to Shapely 2.0 (https://shapely.readthedocs.io/en/latest/migration_pygeos.html).\n",
      "  import geopandas\n"
     ]
    }
   ],
   "source": [
    "# import os\n",
    "# os.environ['USE_PYGEOS'] = '0'\n",
    "\n",
    "import warnings\n",
    "\n",
    "import geopandas\n",
    "import dask_geopandas\n",
    "import numpy\n",
    "import shapely  # needs to be shapely 2\n",
    "import esda.shape as shape\n",
    "\n",
    "from tqdm import tqdm"
   ]
  },
  {
   "cell_type": "code",
   "execution_count": 2,
   "metadata": {},
   "outputs": [],
   "source": [
    "sample = geopandas.read_parquet(\"../data/sample.parquet\")"
   ]
  },
  {
   "cell_type": "markdown",
   "metadata": {},
   "source": [
    "## Measure shape characteristics\n",
    "\n",
    "Polygonize the network to get polygons fully enclosed by street network geometry (face polygons) and measure their shape characteristics."
   ]
  },
  {
   "cell_type": "code",
   "execution_count": 3,
   "metadata": {},
   "outputs": [
    {
     "name": "stderr",
     "output_type": "stream",
     "text": [
      "100%|████████████████████████████████████████| 131/131 [27:14<00:00, 12.48s/it]\n"
     ]
    }
   ],
   "source": [
    "# Loop over unique FUA IDs\n",
    "for fua_id in tqdm(sample.eFUA_ID, total=len(sample)):\n",
    "    # Read stret network\n",
    "    roads = geopandas.read_parquet(f\"../data/{int(fua_id)}/roads_osm.parquet\")\n",
    "\n",
    "    # remove service roads\n",
    "    roads = roads[roads.highway != \"service\"]\n",
    "\n",
    "    # Polygonize street network\n",
    "    polygons = geopandas.GeoSeries(\n",
    "        shapely.polygonize(  # polygonize\n",
    "            shapely.node(  # ensure properly nodded non-planar interesections\n",
    "                shapely.GeometryCollection(  # need a single geometry for nodding\n",
    "                    roads.geometry.array\n",
    "                )\n",
    "            ).geoms # get parts of the collection from nodding\n",
    "        ).geoms, # get parts of the collection from polygonize\n",
    "        crs=roads.crs\n",
    "    ).explode(ignore_index=True) # shoudln't be needed but doesn't hurt to ensure\n",
    "    \n",
    "    # Store geometries as a GeoDataFrame\n",
    "    polygons = geopandas.GeoDataFrame(\n",
    "        geometry=polygons\n",
    "    )\n",
    "    \n",
    "    # Ensure all polygons are valid. Should not be necessary.\n",
    "    if not polygons.is_valid.all():\n",
    "        polygons = geopandas.GeoDataFrame(\n",
    "        geometry=geopandas.GeoSeries(\n",
    "            shapely.make_valid(polygons.geometry.array), crs=roads.crs\n",
    "        ).explode(ignore_index=True)\n",
    "    )\n",
    "    \n",
    "    # Ensure that all geometries are polygons\n",
    "    if not (polygons.geom_type == \"Polygon\").all():\n",
    "        polygons = polygons[polygons.geom_type == \"Polygon\"].reset_index(drop=True)\n",
    "\n",
    "    area = polygons.area\n",
    "\n",
    "    # measure (circular) compactness\n",
    "    polygons[\"circular_compactness\"] = shape.minimum_bounding_circle_ratio(polygons)\n",
    "    polygons[\"circular_compactness_index\"] = polygons[\"circular_compactness\"] * area\n",
    "    \n",
    "    # isoperimetric_quotient\n",
    "    polygons[\"isoperimetric_quotient\"] = shape.isoperimetric_quotient(polygons)\n",
    "    polygons[\"isoperimetric_quotient_index\"] = polygons[\"isoperimetric_quotient\"] * area\n",
    "\n",
    "\n",
    "    # isoareal_quotient\n",
    "    polygons[\"isoareal_quotient\"] = shape.isoareal_quotient(polygons)\n",
    "    polygons[\"isoareal_quotient_index\"] = polygons[\"isoareal_quotient\"] * area\n",
    "\n",
    "    # radii_ratio\n",
    "    polygons[\"radii_ratio\"] = shape.radii_ratio(polygons)\n",
    "    polygons[\"radii_ratio_index\"] = polygons[\"radii_ratio\"] * area\n",
    "\n",
    "    # diameter_ratio\n",
    "    polygons[\"diameter_ratio\"] = shape.diameter_ratio(polygons)\n",
    "    polygons[\"diameter_ratio_index\"] = polygons[\"diameter_ratio\"] * area\n",
    "\n",
    "    # save polygons to a partitioned GeoParquet\n",
    "    polygons = dask_geopandas.from_geopandas(polygons, npartitions=10)\n",
    "    polygons.to_parquet(f\"../data/{int(fua_id)}/polygons/\")"
   ]
  },
  {
   "cell_type": "code",
   "execution_count": null,
   "metadata": {},
   "outputs": [],
   "source": []
  }
 ],
 "metadata": {
  "kernelspec": {
   "display_name": "banana",
   "language": "python",
   "name": "banana"
  },
  "language_info": {
   "codemirror_mode": {
    "name": "ipython",
    "version": 3
   },
   "file_extension": ".py",
   "mimetype": "text/x-python",
   "name": "python",
   "nbconvert_exporter": "python",
   "pygments_lexer": "ipython3",
   "version": "3.11.0"
  },
  "vscode": {
   "interpreter": {
    "hash": "8d1b2c984ad473d756980598d6fae8279815dc9c89a9d51a262cfb04eba7ee8f"
   }
  }
 },
 "nbformat": 4,
 "nbformat_minor": 4
}
