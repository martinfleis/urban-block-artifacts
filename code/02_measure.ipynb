{
 "cells": [
  {
   "cell_type": "markdown",
   "metadata": {},
   "source": [
    "# Analyse a sample of FUAs\n",
    "\n",
    "This notebook produces face polygons and computes shape metrics for each of them."
   ]
  },
  {
   "cell_type": "code",
   "execution_count": 1,
   "metadata": {
    "vscode": {
     "languageId": "python"
    }
   },
   "outputs": [],
   "source": [
    "import warnings\n",
    "\n",
    "import geopandas\n",
    "import dask_geopandas\n",
    "import numpy\n",
    "import pygeos\n",
    "import esda.shape as shape\n",
    "\n",
    "from tqdm import tqdm"
   ]
  },
  {
   "cell_type": "code",
   "execution_count": 2,
   "metadata": {
    "vscode": {
     "languageId": "python"
    }
   },
   "outputs": [],
   "source": [
    "sample = geopandas.read_parquet(\"../data/sample.parquet\")"
   ]
  },
  {
   "cell_type": "markdown",
   "metadata": {},
   "source": [
    "## Measure shape characteristics\n",
    "\n",
    "Polygonize the network to get polygons fully enclosed by street network geometry (face polygons) and measure their shape characteristics."
   ]
  },
  {
   "cell_type": "code",
   "execution_count": 3,
   "metadata": {
    "vscode": {
     "languageId": "python"
    }
   },
   "outputs": [
    {
     "name": "stderr",
     "output_type": "stream",
     "text": [
      "100%|███████████████████████████████████████████████████████████████████████████████████| 131/131 [10:10<00:00,  4.66s/it]\n"
     ]
    }
   ],
   "source": [
    "# Filter warnings about GeoParquet implementation.\n",
    "warnings.filterwarnings('ignore', message='.*initial implementation of Parquet.*')\n",
    "\n",
    "# Loop over unique FUA IDs\n",
    "for fua_id in tqdm(sample.eFUA_ID, total=len(sample)):\n",
    "    # Read stret network\n",
    "    roads = geopandas.read_parquet(f\"../data/{int(fua_id)}/roads_osm.parquet\")\n",
    "\n",
    "    # remove service roads\n",
    "    roads = roads[roads.highway != \"service\"]\n",
    "\n",
    "    # Polygonize street network\n",
    "    polygons = pygeos.polygonize(roads.geometry.array.data)\n",
    "    \n",
    "    # Store geometries as a GeoDataFrame\n",
    "    polygons = geopandas.GeoDataFrame(\n",
    "        geometry=geopandas.GeoSeries(\n",
    "            [polygons], crs=roads.crs\n",
    "        ).explode(ignore_index=True)\n",
    "    )\n",
    "    \n",
    "    \n",
    "    if not polygons.is_valid.all():\n",
    "        polygons = geopandas.GeoDataFrame(\n",
    "        geometry=geopandas.GeoSeries(\n",
    "            pygeos.make_valid(polygons.geometry.values.data), crs=roads.crs\n",
    "        ).explode(ignore_index=True)\n",
    "    )\n",
    "        \n",
    "    if not (polygons.geom_type == \"Polygon\").all():\n",
    "        polygons = polygons[polygons.geom_type == \"Polygon\"].reset_index(drop=True)\n",
    "\n",
    "    # Extract underlying PyGEOS geometries pygeos understands (minimum_bounding_circle is not yet exposed in geopandas)\n",
    "    ga = polygons.geometry.array.data\n",
    "\n",
    "    # measure area\n",
    "    polygons[\"area\"] = polygons.area\n",
    "    # generate minimum bounding circle\n",
    "    circles = geopandas.GeoDataFrame(\n",
    "        geometry=geopandas.GeoSeries(pygeos.minimum_bounding_circle(ga), crs=polygons.crs)\n",
    "    )\n",
    "    # measure MBC's area\n",
    "    circles[\"circle_area\"] = circles.area\n",
    "\n",
    "    # measure Reock (circular) compactness\n",
    "    polygons[\"reock\"] = polygons[\"area\"] / circles[\"circle_area\"]\n",
    "  \n",
    "    # measure direct shape index that captures banana-like relationship between area and Reock compactness in a one dimension\n",
    "    polygons[\"shape_index\"] = polygons[\"area\"] / numpy.sqrt(circles[\"circle_area\"])\n",
    "    \n",
    "    # isoperimetric_quotient\n",
    "    polygons[\"isoperimetric_quotient\"] = shape.isoperimetric_quotient(polygons)\n",
    "\n",
    "    # isoareal_quotient\n",
    "    polygons[\"isoareal_quotient\"] = shape.isoareal_quotient(polygons)\n",
    "\n",
    "    # radii_ratio\n",
    "    polygons[\"radii_ratio\"] = shape.radii_ratio(polygons)\n",
    "\n",
    "    # diameter_ratio\n",
    "    polygons[\"diameter_ratio\"] = shape.diameter_ratio(polygons)\n",
    "\n",
    "    # boundary_amplitude\n",
    "    polygons[\"boundary_amplitude\"] = shape.boundary_amplitude(polygons)\n",
    "\n",
    "    # squareness\n",
    "    polygons[\"squareness\"] = shape.squareness(polygons)\n",
    "\n",
    "    # Schumm's shape_index\n",
    "    polygons[\"schumm_shape_index\"] = shape.shape_index(polygons)\n",
    "\n",
    "    # save polygons to a partitioned GeoParquet\n",
    "    polygons = dask_geopandas.from_geopandas(polygons, npartitions=10)\n",
    "    polygons.to_parquet(f\"../data/{int(fua_id)}/polygons/\")\n",
    "    \n",
    "    # save circles to a partitioned GeoParquet\n",
    "    circles = dask_geopandas.from_geopandas(circles, npartitions=10)\n",
    "    circles.to_parquet(f\"../data/{int(fua_id)}/circles/\")"
   ]
  }
 ],
 "metadata": {
  "kernelspec": {
   "display_name": "Python 3 (ipykernel)",
   "language": "python",
   "name": "python3"
  },
  "language_info": {
   "codemirror_mode": {
    "name": "ipython",
    "version": 3
   },
   "file_extension": ".py",
   "mimetype": "text/x-python",
   "name": "python",
   "nbconvert_exporter": "python",
   "pygments_lexer": "ipython3",
   "version": "3.9.7"
  },
  "vscode": {
   "interpreter": {
    "hash": "8d1b2c984ad473d756980598d6fae8279815dc9c89a9d51a262cfb04eba7ee8f"
   }
  }
 },
 "nbformat": 4,
 "nbformat_minor": 4
}
