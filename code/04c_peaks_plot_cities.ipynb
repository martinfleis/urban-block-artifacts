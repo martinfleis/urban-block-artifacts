{
 "cells": [
  {
   "cell_type": "markdown",
   "metadata": {},
   "source": [
    "# Analysis of distribution of shape statistics\n",
    "\n",
    "**Part 3: plot cities**\n",
    "\n",
    "This notebook visualizes the results of the peak-finding procedure from the previous notebook, `04a_peaks_compute`, applied to the geometries of the FUAs. "
   ]
  },
  {
   "cell_type": "code",
   "execution_count": null,
   "metadata": {},
   "outputs": [],
   "source": [
    "import os\n",
    "\n",
    "os.environ[\"USE_PYGEOS\"] = \"0\"\n",
    "import json\n",
    "import geopandas\n",
    "import pandas\n",
    "import numpy\n",
    "import matplotlib.pyplot as plt\n",
    "from matplotlib import rcParams\n",
    "import seaborn as sns\n",
    "from palettable.cartocolors.qualitative import Bold_6\n",
    "\n",
    "from scipy.signal import find_peaks\n",
    "from scipy.stats import gaussian_kde"
   ]
  },
  {
   "cell_type": "markdown",
   "metadata": {},
   "source": [
    "Set default plotting theme and add color dictionary for continents."
   ]
  },
  {
   "cell_type": "code",
   "execution_count": null,
   "metadata": {},
   "outputs": [],
   "source": [
    "sns.set_theme(\n",
    "    context=\"paper\",\n",
    "    style=\"ticks\",\n",
    "    rc={\n",
    "        \"patch.force_edgecolor\": False,\n",
    "        \"axes.spines.top\": False,\n",
    "        \"axes.spines.right\": False,\n",
    "        \"axes.grid\": True,\n",
    "    },\n",
    "    palette=Bold_6.hex_colors,\n",
    ")\n",
    "\n",
    "coldict = {\n",
    "    \"Africa\": 0,\n",
    "    \"Asia\": 1,\n",
    "    \"Europe\": 2,\n",
    "    \"North America\": 3,\n",
    "    \"Oceania\": 4,\n",
    "    \"South America\": 5,\n",
    "}"
   ]
  },
  {
   "cell_type": "markdown",
   "metadata": {},
   "source": [
    "Load results from previous notebook"
   ]
  },
  {
   "cell_type": "code",
   "execution_count": null,
   "metadata": {},
   "outputs": [],
   "source": [
    "results = json.load(open(\"../results/04_peaks_results.json\"))\n",
    "\n",
    "# load parameters (metric names)\n",
    "options = [\n",
    "    \"circular_compactness_index\",\n",
    "    \"isoperimetric_quotient_index\",\n",
    "    \"isoareal_quotient_index\",\n",
    "    \"radii_ratio_index\",\n",
    "    \"diameter_ratio_index\",\n",
    "]"
   ]
  },
  {
   "cell_type": "markdown",
   "metadata": {},
   "source": [
    "Load sample meta data"
   ]
  },
  {
   "cell_type": "code",
   "execution_count": null,
   "metadata": {},
   "outputs": [],
   "source": [
    "sample = geopandas.read_parquet(\"../data/sample.parquet\")"
   ]
  },
  {
   "cell_type": "markdown",
   "metadata": {},
   "source": [
    "Plot settings and subfolders"
   ]
  },
  {
   "cell_type": "code",
   "execution_count": null,
   "metadata": {},
   "outputs": [],
   "source": [
    "mydirs = [\n",
    "    \"../plots/cities/birdview\",\n",
    "    \"..plots/cities/detail\",\n",
    "]\n",
    "\n",
    "for mydir in mydirs:\n",
    "    os.makedirs(mydir, exist_ok=True)\n",
    "\n",
    "rcParams.update({\"figure.autolayout\": True})"
   ]
  },
  {
   "cell_type": "markdown",
   "metadata": {},
   "source": [
    "Birdview plots of detected graph face artefacts, using circular compactness index threshold as metric"
   ]
  },
  {
   "cell_type": "code",
   "execution_count": null,
   "metadata": {},
   "outputs": [],
   "source": [
    "option = \"circular_compactness_index\"\n",
    "\n",
    "for city in results.keys():\n",
    "\n",
    "    threshold = results[city][option][\"threshold\"]\n",
    "\n",
    "    if threshold:\n",
    "        # get block data for current city\n",
    "        city_id = int(sample.loc[sample[\"eFUA_name\"]==city, \"eFUA_ID\"].values)\n",
    "        fua = geopandas.read_parquet(f\"../data/{int(city_id)}/polygons/\")\n",
    "        \n",
    "        # initialize figure\n",
    "        fig, ax = plt.subplots(1, 1, figsize=(20, 20))\n",
    "\n",
    "        # plot FUA boundary\n",
    "        sample[sample[\"eFUA_name\"]==city].to_crs(fua.crs).exterior.plot(\n",
    "            ax=ax, linewidth = 2, color = \"black\", linestyle = \"dotted\")\n",
    "\n",
    "        # # plot FUA interior\n",
    "        # sample[sample[\"eFUA_name\"]==city].to_crs(fua.crs).plot(\n",
    "        #     ax=ax, color = \"grey\", alpha = 0.07)\n",
    "\n",
    "        # plot true urban blocks\n",
    "        fua[fua[\"circular_compactness_index\"] > threshold].plot(\n",
    "            ax=ax, color=\"grey\", alpha=0.1\n",
    "        )\n",
    "\n",
    "        # plot street artifacts\n",
    "        fua[fua[\"circular_compactness_index\"] <= threshold].plot(\n",
    "            ax=ax, color=\"red\", alpha=1\n",
    "        )\n",
    "\n",
    "        ax.set_axis_off()\n",
    "\n",
    "        plt.rc(\"figure\", titlesize=50)\n",
    "        fig.suptitle(city.capitalize())\n",
    "        fig.savefig(\n",
    "            f\"../plots/cities/birdview/{city}.png\", dpi=300, bbox_inches=\"tight\"\n",
    "        )\n",
    "        plt.close()\n",
    "        print(f\"Plotted {city}\")\n",
    "    else:  # if no threshold has been found, try to estimate one\n",
    "        print(f\"No threshold found for {city}\")"
   ]
  }
 ],
 "metadata": {
  "kernelspec": {
   "display_name": "Python 3 (ipykernel)",
   "language": "python",
   "name": "python3"
  },
  "language_info": {
   "codemirror_mode": {
    "name": "ipython",
    "version": 3
   },
   "file_extension": ".py",
   "mimetype": "text/x-python",
   "name": "python",
   "nbconvert_exporter": "python",
   "pygments_lexer": "ipython3",
   "version": "3.9.15"
  },
  "vscode": {
   "interpreter": {
    "hash": "35f35e1f0bb92e7ac05765c87ada263d1a2173e12d4a4460e46e5d1567b982a5"
   }
  }
 },
 "nbformat": 4,
 "nbformat_minor": 4
}
