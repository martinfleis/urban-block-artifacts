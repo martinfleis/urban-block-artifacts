{
 "cells": [
  {
   "attachments": {},
   "cell_type": "markdown",
   "metadata": {},
   "source": [
    "# Peaks\n",
    "\n",
    "this notebook should contain the peak identification once finalised."
   ]
  },
  {
   "cell_type": "markdown",
   "metadata": {},
   "source": []
  }
 ],
 "metadata": {
  "kernelspec": {
   "display_name": "stable",
   "language": "python",
   "name": "python3"
  },
  "language_info": {
   "name": "python",
   "version": "3.10.8 | packaged by conda-forge | (main, Nov 22 2022, 08:25:13) [Clang 14.0.6 ]"
  },
  "orig_nbformat": 4,
  "vscode": {
   "interpreter": {
    "hash": "d8e5257d6aa3ccb45d262d25a4bd441591d0aff640b224e205b1e70b23b1db26"
   }
  }
 },
 "nbformat": 4,
 "nbformat_minor": 2
}
